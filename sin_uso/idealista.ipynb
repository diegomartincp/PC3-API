{
 "cells": [
  {
   "cell_type": "code",
   "execution_count": 42,
   "metadata": {},
   "outputs": [
    {
     "name": "stdout",
     "output_type": "stream",
     "text": [
      "introduzca la ciudad\n"
     ]
    },
    {
     "name": "stdin",
     "output_type": "stream",
     "text": [
      " la paz\n"
     ]
    },
    {
     "name": "stdout",
     "output_type": "stream",
     "text": [
      "['0 Viviendas y casas para compartir en La Paz, Alcalá de Guadaira', '7 Viviendas y casas de alquiler en La Paz, Alcalá de Guadaira', '187 Viviendas y casas en venta en La Paz, Alcalá de Guadaira']\n"
     ]
    }
   ],
   "source": [
    "import requests\n",
    "from bs4 import BeautifulSoup\n",
    "\n",
    "print(\"introduzca la ciudad\")\n",
    "ciudad = input().replace (\" \", \"-\").lower()\n",
    "\n",
    "#habitaciones\n",
    "operacion= [\"comprar\", \"alquiler\", \"compartir\"]\n",
    "tipo = [\"viviendas\", \"locales\", \"oficinas\"]\n",
    "total = []\n",
    "\n",
    "for oper in operacion:\n",
    "    url = \"https://www.fotocasa.es/es/\"+oper+\"/\"+tipo[0]+\"/\"+ciudad+\"/todas-las-zonas/l\"\n",
    "    r = requests.get(url)\n",
    "    soup = BeautifulSoup(r.content, \"html.parser\")\n",
    "    numero = soup.find('span', {'class': 're-SearchTitle-count'})\n",
    "    texto = soup.find('h1', {'class': 're-SearchTitle-text'})\n",
    "    info = numero.text + \" \" + texto.text\n",
    "    total.insert(0, info)\n",
    "\n",
    "print(total)"
   ]
  },
  {
   "cell_type": "code",
   "execution_count": null,
   "metadata": {},
   "outputs": [],
   "source": []
  },
  {
   "cell_type": "code",
   "execution_count": 27,
   "metadata": {},
   "outputs": [
    {
     "name": "stdout",
     "output_type": "stream",
     "text": [
      "https://www.fotocasa.es/es/comprar/viviendas/alcobendas/todas-las-zonas/l\n",
      "200\n"
     ]
    }
   ],
   "source": [
    "import requests\n",
    "from bs4 import BeautifulSoup\n"
   ]
  },
  {
   "cell_type": "code",
   "execution_count": 28,
   "metadata": {},
   "outputs": [
    {
     "name": "stdout",
     "output_type": "stream",
     "text": [
      "246\n"
     ]
    }
   ],
   "source": [
    "print(numero.text)"
   ]
  },
  {
   "cell_type": "code",
   "execution_count": null,
   "metadata": {},
   "outputs": [],
   "source": []
  }
 ],
 "metadata": {
  "kernelspec": {
   "display_name": "Python 3",
   "language": "python",
   "name": "python3"
  },
  "language_info": {
   "codemirror_mode": {
    "name": "ipython",
    "version": 3
   },
   "file_extension": ".py",
   "mimetype": "text/x-python",
   "name": "python",
   "nbconvert_exporter": "python",
   "pygments_lexer": "ipython3",
   "version": "3.8.5"
  }
 },
 "nbformat": 4,
 "nbformat_minor": 4
}
