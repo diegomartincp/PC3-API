{
 "cells": [
  {
   "cell_type": "markdown",
   "id": "equal-blind",
   "metadata": {},
   "source": [
    "https://gastroranking.es/restaurantes/madrid/boadilla-del-monte/\n",
    "<br>Sacar:\n",
    "- Nombre del restaurante\n",
    "- Valoración del restaurante\n",
    "- etiquetas para ver que tipo de comida hacen"
   ]
  },
  {
   "cell_type": "code",
   "execution_count": 3,
   "id": "inside-cooking",
   "metadata": {},
   "outputs": [
    {
     "name": "stderr",
     "output_type": "stream",
     "text": [
      "c:\\programdata\\miniconda3\\lib\\site-packages\\numpy\\_distributor_init.py:30: UserWarning: loaded more than 1 DLL from .libs:\n",
      "c:\\programdata\\miniconda3\\lib\\site-packages\\numpy\\.libs\\libopenblas.4SP5SUA7CBGXUEOC35YP2ASOICYYEQZZ.gfortran-win_amd64.dll\n",
      "c:\\programdata\\miniconda3\\lib\\site-packages\\numpy\\.libs\\libopenblas.GK7GX5KEQ4F6UYO3P26ULGBQYHGQO7J4.gfortran-win_amd64.dll\n",
      "  warnings.warn(\"loaded more than 1 DLL from .libs:\"\n"
     ]
    }
   ],
   "source": [
    "import requests\n",
    "from bs4 import BeautifulSoup\n",
    "import pandas as pd"
   ]
  },
  {
   "cell_type": "markdown",
   "id": "racial-allocation",
   "metadata": {},
   "source": [
    "## Metodo para sacar toda la información de la web\n",
    "- ca: comunidad autonoma\n",
    "- municipio: municipio de la comunidad autonoma del cual queremos saber los restaurantes\n",
    "- nombres: recibimos la lista vacia y la devolvemos con los nombres de los restaurantes\n",
    "- valoraciones: recibimos la lista vacia y la devolvemos con las valoraciones de los restaurantes\n",
    "- etiquetas: recibimos la lista vacia y la devolvemos con las etiquetas de los restaurantes\n",
    "- Devuelve un df con los nombres de los restaurantes, la media de valoración del restaurante y la etiquetas del tipo de comida."
   ]
  },
  {
   "cell_type": "code",
   "execution_count": 7,
   "id": "caring-galaxy",
   "metadata": {},
   "outputs": [],
   "source": [
    "def gastrorankingData(ca, municipio, nombres, valoraciones, etiquetas):\n",
    "    ca = ca.replace(\" \", \"-\").lower()\n",
    "    municipio = municipio.replace(\" \", \"-\").lower()\n",
    "    url = \"https://gastroranking.es/restaurantes/\"+ca+\"/\"+municipio+\"/\"\n",
    "    print(url)\n",
    "    pageGastroranking = requests.get(url)\n",
    "    print(\"Respuesta: \"+str(pageGastroranking.status_code))\n",
    "    contenidoGastroranking = BeautifulSoup(pageGastroranking.content, 'html.parser')\n",
    "    \n",
    "    # sacar el título, ranking y etiquetas de los restaurantes\n",
    "    #Nombre\n",
    "    for h3 in contenidoGastroranking.find_all('h3', class_='restaurantName'):\n",
    "        for a in h3.find_all('a'):\n",
    "            nombres.append(a.getText())\n",
    "    print(nombres)\n",
    "    print()\n",
    "\n",
    "    #Valoracion\n",
    "    for td in contenidoGastroranking.find_all('td', class_='grInfo centerText'):\n",
    "        for span in td.find_all('span', class_='rankValue'):\n",
    "            entero = span.find('span', class_='big').getText()\n",
    "            decimal = span.find('span', class_='decimal').getText()\n",
    "            numero = str(entero)+str(decimal)\n",
    "            valoraciones.append(numero)\n",
    "    print(valoraciones)\n",
    "    print()\n",
    "\n",
    "    #etiquetas\n",
    "    etiquetasTemporal = \"\"\n",
    "    for div in contenidoGastroranking.find_all('div', class_='visualClear tags'):\n",
    "        for a in div.find_all('a', class_='tag'):\n",
    "            etiquetasTemporal = etiquetasTemporal+\" \"+a.getText()\n",
    "        etiquetas.append(etiquetasTemporal)\n",
    "        etiquetasTemporal = \"\"\n",
    "    print(etiquetas)\n",
    "\n",
    "    print()\n",
    "    print(str(len(nombres))+\" \"+str(len(valoraciones))+\" \"+str(len(etiquetas)))\n",
    "    \n",
    "    #insertamos los datos en un dataframe NO USAR, FUNCIONAMIENTO PARA INSERCIÓN DATAFRAME\n",
    "    #df = pd.DataFrame(columns=['nombreRestaurante', 'valoracion', 'etiquetas'])\n",
    "    #for n in range(len(nombres)):\n",
    "    #    #df.append({'nombreRestaurante' : nombres[n] , 'valoracion' : valoraciones[n], 'etiquetasetiquetas' : etiquetas[n]} , ignore_index=True)\n",
    "    #    new_list = [ (nombres[n], valoraciones[n], etiquetas[n])]\n",
    "    #    print(new_list)\n",
    "    #    dfNew = pd.DataFrame(new_list, columns = ['nombreRestaurante' , 'valoracion', 'etiquetas'])\n",
    "    #    df = df.append(dfNew,ignore_index=True)\n",
    "    #return df"
   ]
  },
  {
   "cell_type": "code",
   "execution_count": 9,
   "id": "disabled-lodge",
   "metadata": {},
   "outputs": [
    {
     "name": "stdout",
     "output_type": "stream",
     "text": [
      "https://gastroranking.es/restaurantes/madrid/boadilla-del-monte/\n",
      "Respuesta: 200\n",
      "['Proverbium', 'El Bury/parrilla', 'Juan Blanco', 'Restaurante Trattoria Piccolo Mio', 'Restaurante Alilian', 'Fisterra', 'El buey boadilla', 'India Gate', 'The Burguer Lobby', ' La Burguesita ', 'Meson Jamonero Canete', 'La Lonja de Boadilla SL.', 'Mar y MontaÃ±a', 'La Ilustracion Gastrobar', 'La Via']\n",
      "\n",
      "['9,0', '8,8', '8,7', '8,7', '8,6', '8,5', '8,4', '8,4', '8,4', '8,2', '8,2', '8,2', '8,2', '8,2', '8,2']\n",
      "\n",
      "[' pasta pizza tiramisu trufa atun', ' carne tarta albondigas queso croquetas', ' arroz croquetas rabo atun bonito', ' pasta risotto tiramisu ensalada queso', ' oreja carne tarta arroz salmon', ' tortilla pulpo tarta tapas alcachofas', ' carne buey ensalada tarta lomo', ' picante pollo arroz curry cordero', ' hamburguesa carne cebolla tarta patatas', ' hamburguesa patatas carne tarta buey', ' jamon torreznos embutidos quesos tapas', ' pescado marisco carne gambas pulpo', ' picante arroz pollo croquetas', ' cocido tarta tapas arroz', ' pasta pizza berenjenas queso pastas']\n",
      "\n",
      "15 15 15\n"
     ]
    }
   ],
   "source": [
    "#Una vez hecha la llamada (con las tres listas en las que almacenaremos los datos), el metodo nos devolvera\n",
    "#estas listas llenas con la información que nos interesa\n",
    "\n",
    "nombres = []\n",
    "valoraciones = []\n",
    "etiquetas = []\n",
    "gastrorankingData(\"Madrid\", \"Boadilla del monte\", nombres, valoraciones, etiquetas)"
   ]
  },
  {
   "cell_type": "code",
   "execution_count": null,
   "id": "manufactured-drawing",
   "metadata": {},
   "outputs": [],
   "source": []
  }
 ],
 "metadata": {
  "kernelspec": {
   "display_name": "Python 3",
   "language": "python",
   "name": "python3"
  },
  "language_info": {
   "codemirror_mode": {
    "name": "ipython",
    "version": 3
   },
   "file_extension": ".py",
   "mimetype": "text/x-python",
   "name": "python",
   "nbconvert_exporter": "python",
   "pygments_lexer": "ipython3",
   "version": "3.8.5"
  }
 },
 "nbformat": 4,
 "nbformat_minor": 5
}
